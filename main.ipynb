{
 "cells": [
  {
   "cell_type": "markdown",
   "id": "37ca2789",
   "metadata": {},
   "source": [
    "## Git Learning main branch"
   ]
  },
  {
   "cell_type": "markdown",
   "id": "1187015e",
   "metadata": {},
   "source": [
    "## basic git commands"
   ]
  }
 ],
 "metadata": {
  "language_info": {
   "name": "python"
  }
 },
 "nbformat": 4,
 "nbformat_minor": 5
}
