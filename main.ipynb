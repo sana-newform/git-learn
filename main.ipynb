{
 "cells": [
  {
   "cell_type": "markdown",
   "id": "37ca2789",
   "metadata": {},
   "source": [
    "# Git Learning"
   ]
  },
  {
   "cell_type": "markdown",
   "id": "1187015e",
   "metadata": {},
   "source": [
    "## basic git commands"
   ]
  },
  {
   "cell_type": "markdown",
   "id": "af2196d4",
   "metadata": {},
   "source": [
    "### git clone <repo-url> - cloning the repository\n",
    "### git init - initialize the new repository\n",
    "### git add <file> - stage a specific file\n",
    "### git add . - stage all changes in the directory\n",
    "### git rm <file> - remove a file and stage the deletion\n",
    "### git commit -m \"message\" - commit staged changes with a message\n"
   ]
  }
 ],
 "metadata": {
  "language_info": {
   "name": "python"
  }
 },
 "nbformat": 4,
 "nbformat_minor": 5
}
